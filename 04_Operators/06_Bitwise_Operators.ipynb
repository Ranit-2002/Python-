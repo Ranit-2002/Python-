{
 "cells": [
  {
   "cell_type": "markdown",
   "id": "6487d38b",
   "metadata": {},
   "source": [
    "# Bitwise Operators :"
   ]
  },
  {
   "cell_type": "markdown",
   "id": "483f0b16",
   "metadata": {},
   "source": [
    "In Python, bitwise operators are used to perform operations on individual bits of integers. Python supports several bitwise operators:\n",
    "\n",
    "* **AND (&) :** Performs a bitwise AND operation.\n",
    "* **OR (|) :** Performs a bitwise OR operation.\n",
    "* **XOR (^) :** Performs a bitwise XOR (exclusive OR) operation.\n",
    "* **NOT (~) :** Performs a bitwise NOT operation.\n",
    "* **Left Shift (<<) :** Shifts the bits to the left.\n",
    "* **Right Shift (>>) :** Shifts the bits to the right.\n",
    "\n",
    "Here's how you can use these operators in Python :"
   ]
  },
  {
   "cell_type": "markdown",
   "id": "b0705b14",
   "metadata": {},
   "source": [
    "* ### Bitwise AND :\n"
   ]
  },
  {
   "cell_type": "code",
   "execution_count": 1,
   "id": "f0d04430",
   "metadata": {},
   "outputs": [
    {
     "name": "stdout",
     "output_type": "stream",
     "text": [
      "Bitwise AND: 2\n"
     ]
    }
   ],
   "source": [
    "result_and = 10 & 7  # Output: 2 (binary 1010 & 0111 = 0010)\n",
    "print(\"Bitwise AND:\", result_and)"
   ]
  },
  {
   "cell_type": "markdown",
   "id": "6038077d",
   "metadata": {},
   "source": [
    "* ### Bitwise OR :"
   ]
  },
  {
   "cell_type": "code",
   "execution_count": 7,
   "id": "e83b897f",
   "metadata": {},
   "outputs": [
    {
     "name": "stdout",
     "output_type": "stream",
     "text": [
      "Bitwise OR: 15\n"
     ]
    }
   ],
   "source": [
    "result_or = 10 | 7  # Output: 15 (binary 1010 | 0111 = 1111)\n",
    "print(\"Bitwise OR:\", result_or)"
   ]
  },
  {
   "cell_type": "markdown",
   "id": "1139fea3",
   "metadata": {},
   "source": [
    "* ### Bitwise XOR :"
   ]
  },
  {
   "cell_type": "code",
   "execution_count": 8,
   "id": "f81bf760",
   "metadata": {},
   "outputs": [
    {
     "name": "stdout",
     "output_type": "stream",
     "text": [
      "Bitwise XOR: 13\n"
     ]
    }
   ],
   "source": [
    "result_xor = 10 ^ 7  # Output: 13 (binary 1010 ^ 0111 = 1101)\n",
    "print(\"Bitwise XOR:\", result_xor)"
   ]
  },
  {
   "cell_type": "markdown",
   "id": "4b758c9a",
   "metadata": {},
   "source": [
    "* ### Bitwise NOT :"
   ]
  },
  {
   "cell_type": "code",
   "execution_count": 9,
   "id": "9e600211",
   "metadata": {},
   "outputs": [
    {
     "name": "stdout",
     "output_type": "stream",
     "text": [
      "Bitwise NOT: -11\n"
     ]
    }
   ],
   "source": [
    "result_not = ~10  # Output: -11 (binary ~1010 = -1011)\n",
    "print(\"Bitwise NOT:\", result_not)"
   ]
  },
  {
   "cell_type": "markdown",
   "id": "acf7c4bc",
   "metadata": {},
   "source": [
    "* ### Left Shift :"
   ]
  },
  {
   "cell_type": "code",
   "execution_count": 10,
   "id": "16175cdd",
   "metadata": {},
   "outputs": [
    {
     "name": "stdout",
     "output_type": "stream",
     "text": [
      "Left Shift: 20\n"
     ]
    }
   ],
   "source": [
    "result_left_shift = 5 << 2  # Output: 20 (binary 0101 shifted left by 2 becomes 10100)\n",
    "print(\"Left Shift:\", result_left_shift)"
   ]
  },
  {
   "cell_type": "markdown",
   "id": "67b54d5e",
   "metadata": {},
   "source": [
    "* ### Right Shift :"
   ]
  },
  {
   "cell_type": "code",
   "execution_count": 11,
   "id": "91132bf1",
   "metadata": {},
   "outputs": [
    {
     "name": "stdout",
     "output_type": "stream",
     "text": [
      "Right Shift: 5\n"
     ]
    }
   ],
   "source": [
    "result_right_shift = 20 >> 2  # Output: 5 (binary 10100 shifted right by 2 becomes 0101)\n",
    "print(\"Right Shift:\", result_right_shift)"
   ]
  }
 ],
 "metadata": {
  "kernelspec": {
   "display_name": "Python 3 (ipykernel)",
   "language": "python",
   "name": "python3"
  },
  "language_info": {
   "codemirror_mode": {
    "name": "ipython",
    "version": 3
   },
   "file_extension": ".py",
   "mimetype": "text/x-python",
   "name": "python",
   "nbconvert_exporter": "python",
   "pygments_lexer": "ipython3",
   "version": "3.11.5"
  }
 },
 "nbformat": 4,
 "nbformat_minor": 5
}
