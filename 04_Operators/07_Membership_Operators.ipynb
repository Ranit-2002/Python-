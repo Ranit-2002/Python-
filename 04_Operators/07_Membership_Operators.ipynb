{
 "cells": [
  {
   "cell_type": "markdown",
   "id": "da23b5f5",
   "metadata": {},
   "source": [
    "# Membership Operators :"
   ]
  },
  {
   "cell_type": "markdown",
   "id": "c288c6b9",
   "metadata": {},
   "source": [
    "In Python, membership operators are used to test whether a value or variable is found within a sequence or collection. Python provides two membership operators:\n",
    "\n",
    "* **in :** This operator returns True if a value exists in the specified sequence, otherwise it returns False.\n",
    "* **not in :** This operator returns True if a value does not exist in the specified sequence, otherwise it returns False.\n",
    "\n",
    "These operators are often used with strings, lists, tuples, dictionaries, and sets. Here's a brief explanation with examples:"
   ]
  },
  {
   "cell_type": "markdown",
   "id": "73a6d534",
   "metadata": {},
   "source": [
    "## Examples:\n",
    "* ### ***Using 'in' operator:***"
   ]
  },
  {
   "cell_type": "markdown",
   "id": "1a635038",
   "metadata": {},
   "source": [
    "* **Check if a value exists in a list :**"
   ]
  },
  {
   "cell_type": "code",
   "execution_count": 2,
   "id": "df7333cd",
   "metadata": {},
   "outputs": [
    {
     "name": "stdout",
     "output_type": "stream",
     "text": [
      "True\n",
      "False\n"
     ]
    }
   ],
   "source": [
    "my_list = [1, 2, 3, 4, 5]\n",
    "print(3 in my_list)  \n",
    "print(6 in my_list)  "
   ]
  },
  {
   "cell_type": "markdown",
   "id": "298d4392",
   "metadata": {},
   "source": [
    "* **Check if a character exists in a string :**"
   ]
  },
  {
   "cell_type": "code",
   "execution_count": 4,
   "id": "99f24310",
   "metadata": {},
   "outputs": [
    {
     "name": "stdout",
     "output_type": "stream",
     "text": [
      "True\n",
      "False\n"
     ]
    }
   ],
   "source": [
    "my_string = \"Hello, world!\"\n",
    "print(\"e\" in my_string)  \n",
    "print(\"z\" in my_string)  "
   ]
  },
  {
   "cell_type": "markdown",
   "id": "7d9c64b5",
   "metadata": {},
   "source": [
    "* **Check if a key exists in a dictionary :**"
   ]
  },
  {
   "cell_type": "code",
   "execution_count": 5,
   "id": "f7ba3c26",
   "metadata": {},
   "outputs": [
    {
     "name": "stdout",
     "output_type": "stream",
     "text": [
      "True\n",
      "False\n"
     ]
    }
   ],
   "source": [
    "my_dict = {\"a\": 1, \"b\": 2, \"c\": 3}\n",
    "print(\"b\" in my_dict)   \n",
    "print(\"d\" in my_dict)  "
   ]
  },
  {
   "cell_type": "markdown",
   "id": "1215b07b",
   "metadata": {},
   "source": [
    "* ### ***Using 'not in' operator:***"
   ]
  },
  {
   "cell_type": "markdown",
   "id": "5bc02ea2",
   "metadata": {},
   "source": [
    "* **Check if a value does not exist in a list :**"
   ]
  },
  {
   "cell_type": "code",
   "execution_count": 6,
   "id": "a00b89f0",
   "metadata": {},
   "outputs": [
    {
     "name": "stdout",
     "output_type": "stream",
     "text": [
      "True\n",
      "False\n"
     ]
    }
   ],
   "source": [
    "my_list = [1, 2, 3, 4, 5]\n",
    "print(6 not in my_list) \n",
    "print(3 not in my_list)  "
   ]
  },
  {
   "cell_type": "markdown",
   "id": "0fc315f1",
   "metadata": {},
   "source": [
    "* **Check if a character does not exist in a string :**"
   ]
  },
  {
   "cell_type": "code",
   "execution_count": 7,
   "id": "aba528a4",
   "metadata": {},
   "outputs": [
    {
     "name": "stdout",
     "output_type": "stream",
     "text": [
      "True\n",
      "False\n"
     ]
    }
   ],
   "source": [
    "my_string = \"Hello, world!\"\n",
    "print(\"z\" not in my_string)  \n",
    "print(\"o\" not in my_string)  "
   ]
  },
  {
   "cell_type": "markdown",
   "id": "29d632ff",
   "metadata": {},
   "source": [
    "* **Check if a key does not exist in a dictionary :**"
   ]
  },
  {
   "cell_type": "code",
   "execution_count": 8,
   "id": "444a26ca",
   "metadata": {},
   "outputs": [
    {
     "name": "stdout",
     "output_type": "stream",
     "text": [
      "True\n",
      "False\n"
     ]
    }
   ],
   "source": [
    "my_dict = {\"a\": 1, \"b\": 2, \"c\": 3}\n",
    "print(\"d\" not in my_dict)  \n",
    "print(\"b\" not in my_dict)  "
   ]
  },
  {
   "cell_type": "markdown",
   "id": "cb8184bb",
   "metadata": {},
   "source": [
    "* ***Membership operators are very useful for conditional statements and loops where you need to check if an item exists in a collection before performing certain actions.***"
   ]
  },
  {
   "cell_type": "code",
   "execution_count": null,
   "id": "e28ce648",
   "metadata": {},
   "outputs": [],
   "source": []
  }
 ],
 "metadata": {
  "kernelspec": {
   "display_name": "Python 3 (ipykernel)",
   "language": "python",
   "name": "python3"
  },
  "language_info": {
   "codemirror_mode": {
    "name": "ipython",
    "version": 3
   },
   "file_extension": ".py",
   "mimetype": "text/x-python",
   "name": "python",
   "nbconvert_exporter": "python",
   "pygments_lexer": "ipython3",
   "version": "3.11.5"
  }
 },
 "nbformat": 4,
 "nbformat_minor": 5
}
