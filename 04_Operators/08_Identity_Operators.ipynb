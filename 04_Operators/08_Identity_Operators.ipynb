{
 "cells": [
  {
   "cell_type": "markdown",
   "id": "8410c564",
   "metadata": {},
   "source": [
    "# Identity Operators :"
   ]
  },
  {
   "cell_type": "markdown",
   "id": "8180b0d1",
   "metadata": {},
   "source": [
    "In Python, identity operators are used to compare the memory locations of two objects. There are two identity operators: \"is\" and \"is not\". Here's how they work:\n",
    "\n",
    "* **is :** It returns True if both variables point to the same object, and False otherwise.\n",
    "* **is not :** It returns True if both variables do not point to the same object, and False if they do.\n",
    "\n",
    "Here's a quick example to illustrate the usage:"
   ]
  },
  {
   "cell_type": "markdown",
   "id": "8324720f",
   "metadata": {},
   "source": [
    "* **Is Operator :**"
   ]
  },
  {
   "cell_type": "code",
   "execution_count": 6,
   "id": "f12173cb",
   "metadata": {},
   "outputs": [
    {
     "name": "stdout",
     "output_type": "stream",
     "text": [
      "id of 'x' : 1810403145664\n",
      "id of 'y' : 1810403145024\n",
      "False\n",
      "True\n"
     ]
    }
   ],
   "source": [
    "x = [1, 2, 3]\n",
    "y = [1, 2, 3]\n",
    "\n",
    "print(\"id of 'x' :\", id(x))\n",
    "print(\"id of 'y' :\", id(y))\n",
    "\n",
    "print(x is y)       # False, because x and y are separate objects\n",
    "print(x is not y)   # True, because x and y are separate objects"
   ]
  },
  {
   "cell_type": "code",
   "execution_count": 17,
   "id": "46ec66e2",
   "metadata": {},
   "outputs": [
    {
     "name": "stdout",
     "output_type": "stream",
     "text": [
      "id of 'a' : 1810403112592\n",
      "id of 'b' : 1810403109552\n"
     ]
    },
    {
     "data": {
      "text/plain": [
       "'In this example, a and b are two separate object with the same values, \\nso x is y returns False. However, when a is assigned to b, a is b returns \\nTrue because they both point to the same object in memory.'"
      ]
     },
     "execution_count": 17,
     "metadata": {},
     "output_type": "execute_result"
    }
   ],
   "source": [
    "a = \"The University of Burdwan\"\n",
    "b = \"The University of Burdwan\"\n",
    "\n",
    "print(\"id of 'a' :\", id(a))\n",
    "print(\"id of 'b' :\", id(b))\n",
    "\n",
    "# a = b\n",
    "# print(a is b)\n",
    "\n",
    "'''In this example, a and b are two separate object with the same values, \n",
    "so x is y returns False. However, when a is assigned to b, a is b returns \n",
    "True because they both point to the same object in memory.'''"
   ]
  },
  {
   "cell_type": "code",
   "execution_count": 18,
   "id": "08582543",
   "metadata": {},
   "outputs": [
    {
     "name": "stdout",
     "output_type": "stream",
     "text": [
      "id of 'a' : 140715399288040\n",
      "id of 'b' : 140715399288040\n",
      "True\n"
     ]
    }
   ],
   "source": [
    "a = 15\n",
    "b = 15\n",
    "\n",
    "print(\"id of 'a' :\", id(a))\n",
    "print(\"id of 'b' :\", id(b))\n",
    "\n",
    "print(a is b)"
   ]
  }
 ],
 "metadata": {
  "kernelspec": {
   "display_name": "Python 3 (ipykernel)",
   "language": "python",
   "name": "python3"
  },
  "language_info": {
   "codemirror_mode": {
    "name": "ipython",
    "version": 3
   },
   "file_extension": ".py",
   "mimetype": "text/x-python",
   "name": "python",
   "nbconvert_exporter": "python",
   "pygments_lexer": "ipython3",
   "version": "3.11.5"
  }
 },
 "nbformat": 4,
 "nbformat_minor": 5
}
