{
 "cells": [
  {
   "cell_type": "markdown",
   "id": "31cdb88d",
   "metadata": {},
   "source": [
    "# Comparison Operators :"
   ]
  },
  {
   "cell_type": "markdown",
   "id": "95708e36",
   "metadata": {},
   "source": [
    "Comparison operators are used in programming languages to compare values and determine the relationship between them. These operators typically return a boolean value (true or false) based on the comparison result. \n",
    "\n",
    "Here are some common comparison operators :"
   ]
  },
  {
   "cell_type": "markdown",
   "id": "d8efc866",
   "metadata": {},
   "source": [
    "* **Equal to (==) :** Checks if two values are equal.\n",
    "\n",
    "\n",
    "* **Not equal to (!=) :** Checks if two values are not equal.\n",
    "\n",
    "\n",
    "* **Greater than (>) :** Checks if the left operand is greater than the right operand.\n",
    "\n",
    "* **Less than (<) :** Checks if the left operand is less than the right operand.\n",
    "\n",
    "* **Greater than or equal to (>=) :** Checks if the left operand is greater than or equal to the right operand.\n",
    "\n",
    "\n",
    "* **Less than or equal to (<=) :** Checks if the left operand is less than or equal to the right operand.\n"
   ]
  },
  {
   "cell_type": "markdown",
   "id": "d2dec205",
   "metadata": {},
   "source": [
    "In addition to these basic comparison operators, some programming languages may have additional comparison operators or variations, such as :\n",
    "\n",
    "* **Identity operators (===, !==)** which not only check for equality of values but also for equality of types.\n",
    "* **Null coalescing operator (??)** which returns the right operand if the left operand is null.\n",
    "* **Spaceship operator (<=>)** which returns 0 if both operands are equal, 1 if the left is greater, and -1 if the right is greater.\n",
    "\n",
    "The specific syntax and behavior of comparison operators may vary between programming languages, but the fundamental principles remain consistent across most languages."
   ]
  },
  {
   "cell_type": "markdown",
   "id": "b3afadc9",
   "metadata": {},
   "source": [
    "### Equal to (==) :"
   ]
  },
  {
   "cell_type": "code",
   "execution_count": 7,
   "id": "200fd881",
   "metadata": {},
   "outputs": [
    {
     "name": "stdout",
     "output_type": "stream",
     "text": [
      "False\n"
     ]
    }
   ],
   "source": [
    "a = 15\n",
    "b = 10\n",
    "print(a==b)"
   ]
  },
  {
   "cell_type": "markdown",
   "id": "e6fa45a4",
   "metadata": {},
   "source": [
    "### Not equal to (!=) :"
   ]
  },
  {
   "cell_type": "code",
   "execution_count": 10,
   "id": "f8d07742",
   "metadata": {},
   "outputs": [
    {
     "name": "stdout",
     "output_type": "stream",
     "text": [
      "True\n"
     ]
    }
   ],
   "source": [
    "a = 15\n",
    "b = 10\n",
    "print(a!=b)"
   ]
  },
  {
   "cell_type": "markdown",
   "id": "4b524889",
   "metadata": {},
   "source": [
    "### Greater than (>) :"
   ]
  },
  {
   "cell_type": "code",
   "execution_count": 9,
   "id": "8d103375",
   "metadata": {},
   "outputs": [
    {
     "name": "stdout",
     "output_type": "stream",
     "text": [
      "True\n"
     ]
    }
   ],
   "source": [
    "a = 15\n",
    "b = 10\n",
    "print(a>b)"
   ]
  },
  {
   "cell_type": "markdown",
   "id": "d49bd3fe",
   "metadata": {},
   "source": [
    "### Less than (<) : "
   ]
  },
  {
   "cell_type": "code",
   "execution_count": 11,
   "id": "d414ae2a",
   "metadata": {},
   "outputs": [
    {
     "name": "stdout",
     "output_type": "stream",
     "text": [
      "False\n"
     ]
    }
   ],
   "source": [
    "a = 15\n",
    "b = 10\n",
    "print(a<b)"
   ]
  },
  {
   "cell_type": "markdown",
   "id": "35ecd711",
   "metadata": {},
   "source": [
    "### Greater than or equal to (>=) :"
   ]
  },
  {
   "cell_type": "code",
   "execution_count": 12,
   "id": "c967d3cc",
   "metadata": {},
   "outputs": [
    {
     "name": "stdout",
     "output_type": "stream",
     "text": [
      "True\n"
     ]
    }
   ],
   "source": [
    "a = 15\n",
    "b = 10\n",
    "print(a>=b)"
   ]
  },
  {
   "cell_type": "markdown",
   "id": "d0172c35",
   "metadata": {},
   "source": [
    "### Less than or equal to (<=) :"
   ]
  },
  {
   "cell_type": "code",
   "execution_count": 13,
   "id": "c2834966",
   "metadata": {},
   "outputs": [
    {
     "name": "stdout",
     "output_type": "stream",
     "text": [
      "False\n"
     ]
    }
   ],
   "source": [
    "a = 15\n",
    "b = 10\n",
    "print(a<=b)"
   ]
  }
 ],
 "metadata": {
  "kernelspec": {
   "display_name": "Python 3 (ipykernel)",
   "language": "python",
   "name": "python3"
  },
  "language_info": {
   "codemirror_mode": {
    "name": "ipython",
    "version": 3
   },
   "file_extension": ".py",
   "mimetype": "text/x-python",
   "name": "python",
   "nbconvert_exporter": "python",
   "pygments_lexer": "ipython3",
   "version": "3.11.5"
  }
 },
 "nbformat": 4,
 "nbformat_minor": 5
}
