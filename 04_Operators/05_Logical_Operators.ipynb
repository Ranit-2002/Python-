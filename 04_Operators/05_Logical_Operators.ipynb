{
 "cells": [
  {
   "cell_type": "markdown",
   "id": "5c963060",
   "metadata": {},
   "source": [
    "# Logical Operators :"
   ]
  },
  {
   "cell_type": "markdown",
   "id": "eaa5815c",
   "metadata": {},
   "source": [
    "In Python, logical operators are used to combine conditional statements. The three main logical operators in Python are:\n",
    "\n",
    "* **and:** Returns True if both statements are true.\n",
    "* **or:** Returns True if at least one statement is true.\n",
    "* **not:** Returns True if the statement is false (negation).\n",
    "\n",
    "Here's a brief explanation of how they work:"
   ]
  },
  {
   "cell_type": "markdown",
   "id": "456a1686",
   "metadata": {},
   "source": [
    "* ### and:\n",
    "\n",
    "Returns True if both the operands are true.\n",
    "If either or both operands are false, it returns False.\n",
    "\n",
    "Example:"
   ]
  },
  {
   "cell_type": "code",
   "execution_count": 1,
   "id": "945570e4",
   "metadata": {},
   "outputs": [
    {
     "name": "stdout",
     "output_type": "stream",
     "text": [
      "True\n"
     ]
    }
   ],
   "source": [
    "x = 5\n",
    "print(x > 0 and x < 10)  # True because both conditions are true"
   ]
  },
  {
   "cell_type": "markdown",
   "id": "a3a4844b",
   "metadata": {},
   "source": [
    "* ### or:\n",
    "\n",
    "Returns True if either of the operands is true.\n",
    "If both operands are false, it returns False.\n",
    "\n",
    "Example:"
   ]
  },
  {
   "cell_type": "code",
   "execution_count": 2,
   "id": "4b0a7b4a",
   "metadata": {},
   "outputs": [
    {
     "name": "stdout",
     "output_type": "stream",
     "text": [
      "False\n"
     ]
    }
   ],
   "source": [
    "x = 5\n",
    "print(x < 0 or x > 10)  # True because one condition is true"
   ]
  },
  {
   "cell_type": "markdown",
   "id": "862d5677",
   "metadata": {},
   "source": [
    "* **not:**\n",
    "\n",
    "Returns the opposite of the boolean value of the operand.\n",
    "If the operand is True, not returns False. If the operand is False, not returns True.\n",
    "\n",
    "Example:"
   ]
  },
  {
   "cell_type": "code",
   "execution_count": 3,
   "id": "3426d51e",
   "metadata": {},
   "outputs": [
    {
     "name": "stdout",
     "output_type": "stream",
     "text": [
      "True\n"
     ]
    }
   ],
   "source": [
    "x = 5\n",
    "print(not(x < 0))  # True because the condition x < 0 is false"
   ]
  },
  {
   "cell_type": "markdown",
   "id": "717ad576",
   "metadata": {},
   "source": [
    "* **These logical operators are often used in conditional statements (e.g., if, elif, else) to evaluate multiple conditions.**"
   ]
  }
 ],
 "metadata": {
  "kernelspec": {
   "display_name": "Python 3 (ipykernel)",
   "language": "python",
   "name": "python3"
  },
  "language_info": {
   "codemirror_mode": {
    "name": "ipython",
    "version": 3
   },
   "file_extension": ".py",
   "mimetype": "text/x-python",
   "name": "python",
   "nbconvert_exporter": "python",
   "pygments_lexer": "ipython3",
   "version": "3.11.5"
  }
 },
 "nbformat": 4,
 "nbformat_minor": 5
}
