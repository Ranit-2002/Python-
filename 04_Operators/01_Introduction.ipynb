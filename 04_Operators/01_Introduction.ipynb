{
 "cells": [
  {
   "cell_type": "markdown",
   "id": "6be8fd0f",
   "metadata": {},
   "source": [
    "# Operators :"
   ]
  },
  {
   "cell_type": "markdown",
   "id": "f3ef58c2",
   "metadata": {},
   "source": [
    "In Python, operators are special symbols or tokens that are used to perform operations on operands. An operand can be a variable, a value, or even an expression. Python supports a wide range of operators, categorized into different types, each serving a specific purpose. "
   ]
  },
  {
   "cell_type": "markdown",
   "id": "e645e95a",
   "metadata": {},
   "source": [
    "In Python, operators are specialized symbols or keywords utilized for conducting operations on values or variables. They are organized into distinct categories, each serving a specific purpose:\n",
    "\n",
    "Python encompasses a diverse array of operators, which can be segmented as follows:\n",
    "\n",
    "* **Arithmetic Operators :** These operators facilitate arithmetic computations like addition, subtraction, multiplication, division, modulus, and exponentiation.\n",
    "\n",
    "* **Comparison Operators :** These operators are employed to compare values and yield a Boolean outcome (True or False) depending on the comparison's outcome.\n",
    "\n",
    "* **Assignment Operators :** These operators are dedicated to assigning values to variables.\n",
    "\n",
    "* **Logical Operators :** These operators handle logical operations such as AND, OR, and NOT.\n",
    "\n",
    "* **Bitwise Operators :** These operators are geared towards executing operations on binary numbers.\n",
    "\n",
    "* **Membership Operators :** These operators serve to ascertain whether a given value or variable is a member of a sequence.\n",
    "\n",
    "* **Identity Operators :** These operators are utilized to verify whether two objects are identical or not.\n"
   ]
  }
 ],
 "metadata": {
  "kernelspec": {
   "display_name": "Python 3 (ipykernel)",
   "language": "python",
   "name": "python3"
  },
  "language_info": {
   "codemirror_mode": {
    "name": "ipython",
    "version": 3
   },
   "file_extension": ".py",
   "mimetype": "text/x-python",
   "name": "python",
   "nbconvert_exporter": "python",
   "pygments_lexer": "ipython3",
   "version": "3.11.5"
  }
 },
 "nbformat": 4,
 "nbformat_minor": 5
}
