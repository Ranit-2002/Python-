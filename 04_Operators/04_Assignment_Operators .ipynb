{
 "cells": [
  {
   "cell_type": "markdown",
   "id": "4d0c17b7",
   "metadata": {},
   "source": [
    "# Assignment Operators :"
   ]
  },
  {
   "cell_type": "markdown",
   "id": "cd30ef7f",
   "metadata": {},
   "source": [
    "In Python, assignment operators are used to assign values to variables. They are a shorthand way of combining assignment with some other operation. \n",
    "\n",
    "Here are the commonly used assignment operators in Python:"
   ]
  },
  {
   "cell_type": "markdown",
   "id": "25612e56",
   "metadata": {},
   "source": [
    "* **Assignment (=) :** Assigns a value to a variable.\n",
    "\n",
    "* **Addition Assignment (+=) :** Adds the value on the right to the variable and assigns the result to the variable.\n",
    "\n",
    "* **Subtraction Assignment (-=):** Subtracts the value on the right from the variable and assigns the result to the variable.\n",
    "\n",
    "* **Multiplication Assignment (*=):** Multiplies the variable by the value on the right and assigns the result to the variable.\n",
    "\n",
    "* **Division Assignment (/=):** Divides the variable by the value on the right and assigns the result to the variable.\n",
    "\n",
    "* **Floor Division Assignment (//=):** Performs floor division on the variable by the value on the right and assigns the result to the variable.\n",
    "\n",
    "* **Modulus Assignment (%=):** Computes the modulus of the variable with the value on the right and assigns the result to the variable.\n",
    "\n",
    "* ### Others are :\n",
    "\n",
    "* **Exponentiation Assignment** (**=) : Raises the variable to the power of the value on the right and assigns the result to the variable.\n",
    "\n",
    "* **Bitwise AND Assignment (&=) :** Performs a bitwise AND operation between the variable and the value on the right and assigns the result to the variable.\n",
    "\n",
    "* **Bitwise OR Assignment (|=):** Performs a bitwise OR operation between the variable and the value on the right and assigns the result to the variable.\n",
    "\n",
    "* **Bitwise XOR Assignment (^=) :** Performs a bitwise XOR operation between the variable and the value on the right and assigns the result to the variable.\n",
    "\n",
    "* **Bitwise Right Shift Assignment (>>=) :** Shifts the bits of the variable to the right by the number of positions specified by the value on the right and assigns the result to the variable.\n",
    "\n",
    "* **Bitwise Left Shift Assignment (<<=) :** Shifts the bits of the variable to the left by the number of positions specified by the value on the right and assigns the result to the variable."
   ]
  },
  {
   "cell_type": "markdown",
   "id": "ad6b7d24",
   "metadata": {},
   "source": [
    "* ### Assignment (=) :"
   ]
  },
  {
   "cell_type": "code",
   "execution_count": 1,
   "id": "7f6fd378",
   "metadata": {},
   "outputs": [
    {
     "name": "stdout",
     "output_type": "stream",
     "text": [
      "5\n"
     ]
    }
   ],
   "source": [
    "x = 5\n",
    "print(x)"
   ]
  },
  {
   "cell_type": "markdown",
   "id": "a244c070",
   "metadata": {},
   "source": [
    "* ### Addition Assignment (+=) :"
   ]
  },
  {
   "cell_type": "code",
   "execution_count": 2,
   "id": "695216f6",
   "metadata": {},
   "outputs": [
    {
     "name": "stdout",
     "output_type": "stream",
     "text": [
      "8\n"
     ]
    }
   ],
   "source": [
    "x += 3 \n",
    "print(x)"
   ]
  },
  {
   "cell_type": "markdown",
   "id": "9fa44d76",
   "metadata": {},
   "source": [
    "* ### Subtraction Assignment (-=) :"
   ]
  },
  {
   "cell_type": "code",
   "execution_count": 4,
   "id": "1d6540e3",
   "metadata": {},
   "outputs": [
    {
     "name": "stdout",
     "output_type": "stream",
     "text": [
      "2\n"
     ]
    }
   ],
   "source": [
    "x -= 3 \n",
    "print(x)"
   ]
  },
  {
   "cell_type": "markdown",
   "id": "372eb82b",
   "metadata": {},
   "source": [
    "* ### Multiplication Assignment (*=) :"
   ]
  },
  {
   "cell_type": "code",
   "execution_count": 5,
   "id": "091d1e9b",
   "metadata": {},
   "outputs": [
    {
     "name": "stdout",
     "output_type": "stream",
     "text": [
      "6\n"
     ]
    }
   ],
   "source": [
    "x *= 3 \n",
    "print(x)"
   ]
  },
  {
   "cell_type": "markdown",
   "id": "950df5c1",
   "metadata": {},
   "source": [
    "* ### Division Assignment (/=) :"
   ]
  },
  {
   "cell_type": "code",
   "execution_count": 6,
   "id": "796f9b6d",
   "metadata": {},
   "outputs": [
    {
     "name": "stdout",
     "output_type": "stream",
     "text": [
      "2.0\n"
     ]
    }
   ],
   "source": [
    "x /= 3 \n",
    "print(x)"
   ]
  },
  {
   "cell_type": "markdown",
   "id": "dabd3b86",
   "metadata": {},
   "source": [
    "* ### Floor Division Assignment (//=) :"
   ]
  },
  {
   "cell_type": "code",
   "execution_count": 9,
   "id": "e466cb09",
   "metadata": {},
   "outputs": [
    {
     "name": "stdout",
     "output_type": "stream",
     "text": [
      "0.0\n"
     ]
    }
   ],
   "source": [
    "x //= 3 \n",
    "print(x)"
   ]
  },
  {
   "cell_type": "markdown",
   "id": "eb1d4a24",
   "metadata": {},
   "source": [
    "* ### Modulus Assignment (%=) :"
   ]
  },
  {
   "cell_type": "code",
   "execution_count": 10,
   "id": "aaa5d684",
   "metadata": {},
   "outputs": [
    {
     "name": "stdout",
     "output_type": "stream",
     "text": [
      "0.0\n"
     ]
    }
   ],
   "source": [
    "x %= 3 \n",
    "print(x)"
   ]
  },
  {
   "cell_type": "markdown",
   "id": "e0fbe786",
   "metadata": {},
   "source": [
    "* ### Exponentiation Assignment (**=) :"
   ]
  },
  {
   "cell_type": "code",
   "execution_count": 13,
   "id": "71250224",
   "metadata": {},
   "outputs": [
    {
     "name": "stdout",
     "output_type": "stream",
     "text": [
      "27\n"
     ]
    }
   ],
   "source": [
    "x **= 3 \n",
    "print(x)"
   ]
  },
  {
   "cell_type": "markdown",
   "id": "3637bb5f",
   "metadata": {},
   "source": [
    "* ### Bitwise AND Assignment (&=) :"
   ]
  },
  {
   "cell_type": "code",
   "execution_count": 14,
   "id": "6e7be8cc",
   "metadata": {},
   "outputs": [
    {
     "name": "stdout",
     "output_type": "stream",
     "text": [
      "3\n"
     ]
    }
   ],
   "source": [
    "x &= 3 \n",
    "print(x)"
   ]
  },
  {
   "cell_type": "markdown",
   "id": "91cbfffd",
   "metadata": {},
   "source": [
    "* ### Bitwise OR Assignment (|=) :"
   ]
  },
  {
   "cell_type": "code",
   "execution_count": 15,
   "id": "4f8f0f61",
   "metadata": {},
   "outputs": [
    {
     "name": "stdout",
     "output_type": "stream",
     "text": [
      "3\n"
     ]
    }
   ],
   "source": [
    "x |= 3 \n",
    "print(x)"
   ]
  },
  {
   "cell_type": "markdown",
   "id": "7e5d4bd2",
   "metadata": {},
   "source": [
    "* ### Bitwise XOR Assignment (^=) :"
   ]
  },
  {
   "cell_type": "code",
   "execution_count": 16,
   "id": "f4a179ec",
   "metadata": {},
   "outputs": [
    {
     "name": "stdout",
     "output_type": "stream",
     "text": [
      "0\n"
     ]
    }
   ],
   "source": [
    "x ^= 3 \n",
    "print(x)"
   ]
  },
  {
   "cell_type": "markdown",
   "id": "a5bd7e9e",
   "metadata": {},
   "source": [
    "* ###  Bitwise Right Shift Assignment (>>=) :"
   ]
  },
  {
   "cell_type": "code",
   "execution_count": 17,
   "id": "19fe5d29",
   "metadata": {},
   "outputs": [
    {
     "name": "stdout",
     "output_type": "stream",
     "text": [
      "0\n"
     ]
    }
   ],
   "source": [
    "x >>= 3 \n",
    "print(x)"
   ]
  },
  {
   "cell_type": "markdown",
   "id": "7e12b2f8",
   "metadata": {},
   "source": [
    "* ### Bitwise Left Shift Assignment (<<=) :"
   ]
  },
  {
   "cell_type": "code",
   "execution_count": 18,
   "id": "db1a9383",
   "metadata": {},
   "outputs": [
    {
     "name": "stdout",
     "output_type": "stream",
     "text": [
      "0\n"
     ]
    }
   ],
   "source": [
    "x <<= 3 \n",
    "print(x)"
   ]
  }
 ],
 "metadata": {
  "kernelspec": {
   "display_name": "Python 3 (ipykernel)",
   "language": "python",
   "name": "python3"
  },
  "language_info": {
   "codemirror_mode": {
    "name": "ipython",
    "version": 3
   },
   "file_extension": ".py",
   "mimetype": "text/x-python",
   "name": "python",
   "nbconvert_exporter": "python",
   "pygments_lexer": "ipython3",
   "version": "3.11.5"
  }
 },
 "nbformat": 4,
 "nbformat_minor": 5
}
