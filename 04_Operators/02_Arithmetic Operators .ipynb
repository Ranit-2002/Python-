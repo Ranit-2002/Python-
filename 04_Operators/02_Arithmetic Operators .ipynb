{
 "cells": [
  {
   "cell_type": "markdown",
   "id": "a2767bc7",
   "metadata": {},
   "source": [
    "In Python, arithmetic operators are used to perform mathematical operations on numeric values. Here are the basic arithmetic operators in Python:\n",
    "\n",
    "* **Addition (+) :** Adds two operands.\n",
    "* **Subtraction (-) :** Subtracts the second operand from the first.\n",
    "* **Multiplication (*) :** Multiplies two operands.\n",
    "* **Division (/) :** Divides the first operand by the second (always results in a float).\n",
    "* **Floor Division (//) :** Divides the first operand by the second and returns the floor value (integer division).\n",
    "* **Modulus (%) :** Returns the remainder when the first operand is divided by the second.\n",
    "*   Exponentiation (**) : Raises the first operand to the power of the second."
   ]
  },
  {
   "cell_type": "markdown",
   "id": "26a0d45c",
   "metadata": {},
   "source": [
    "* ## **Addition (+) :**  "
   ]
  },
  {
   "cell_type": "code",
   "execution_count": 1,
   "id": "5ddd1a52",
   "metadata": {},
   "outputs": [
    {
     "name": "stdout",
     "output_type": "stream",
     "text": [
      "Addition: 13\n"
     ]
    }
   ],
   "source": [
    "a = 10\n",
    "b = 3\n",
    "print(\"Addition:\", a + b)  "
   ]
  },
  {
   "cell_type": "markdown",
   "id": "0800d12a",
   "metadata": {},
   "source": [
    "* ## **Subtraction (-) :**"
   ]
  },
  {
   "cell_type": "code",
   "execution_count": 4,
   "id": "79cb91c3",
   "metadata": {},
   "outputs": [
    {
     "name": "stdout",
     "output_type": "stream",
     "text": [
      "Subtraction: 3\n"
     ]
    }
   ],
   "source": [
    "a = 5\n",
    "b = 2\n",
    "print(\"Subtraction:\", a - b) "
   ]
  },
  {
   "cell_type": "markdown",
   "id": "fa41a4b0",
   "metadata": {},
   "source": [
    "* ## **Multiplication (*) :**"
   ]
  },
  {
   "cell_type": "code",
   "execution_count": 5,
   "id": "bcabbc3b",
   "metadata": {},
   "outputs": [
    {
     "name": "stdout",
     "output_type": "stream",
     "text": [
      "Multiplication: 48\n"
     ]
    }
   ],
   "source": [
    "a = 8\n",
    "b = 6\n",
    "print(\"Multiplication:\", a * b)  "
   ]
  },
  {
   "cell_type": "markdown",
   "id": "800b759d",
   "metadata": {},
   "source": [
    "* ## **Division (/) :**"
   ]
  },
  {
   "cell_type": "code",
   "execution_count": 9,
   "id": "bff94966",
   "metadata": {},
   "outputs": [
    {
     "name": "stdout",
     "output_type": "stream",
     "text": [
      "Division: 2.0\n"
     ]
    }
   ],
   "source": [
    "a = 4\n",
    "b = 2\n",
    "print(\"Division:\", a / b)  "
   ]
  },
  {
   "cell_type": "markdown",
   "id": "2ee15f7a",
   "metadata": {},
   "source": [
    "* ## **Floor Division (//) :**"
   ]
  },
  {
   "cell_type": "code",
   "execution_count": 10,
   "id": "b2f1149e",
   "metadata": {},
   "outputs": [
    {
     "name": "stdout",
     "output_type": "stream",
     "text": [
      "Floor Division: 1\n"
     ]
    }
   ],
   "source": [
    "a = 5\n",
    "b = 5\n",
    "print(\"Floor Division:\", a // b)  "
   ]
  },
  {
   "cell_type": "markdown",
   "id": "bebeca0c",
   "metadata": {},
   "source": [
    "* ## **Modulus (%) :**"
   ]
  },
  {
   "cell_type": "code",
   "execution_count": 11,
   "id": "c7ad9250",
   "metadata": {},
   "outputs": [
    {
     "name": "stdout",
     "output_type": "stream",
     "text": [
      "Modulus: 0\n"
     ]
    }
   ],
   "source": [
    "a = 10\n",
    "b = 10\n",
    "print(\"Modulus:\", a % b)  "
   ]
  },
  {
   "cell_type": "markdown",
   "id": "727085b5",
   "metadata": {},
   "source": [
    "* ### Exponentiation (**) :"
   ]
  },
  {
   "cell_type": "code",
   "execution_count": 17,
   "id": "3127ba08",
   "metadata": {},
   "outputs": [
    {
     "name": "stdout",
     "output_type": "stream",
     "text": [
      "Exponentiation: 16\n"
     ]
    }
   ],
   "source": [
    "a = 2\n",
    "b = 4\n",
    "print(\"Exponentiation:\", a ** b) "
   ]
  }
 ],
 "metadata": {
  "kernelspec": {
   "display_name": "Python 3 (ipykernel)",
   "language": "python",
   "name": "python3"
  },
  "language_info": {
   "codemirror_mode": {
    "name": "ipython",
    "version": 3
   },
   "file_extension": ".py",
   "mimetype": "text/x-python",
   "name": "python",
   "nbconvert_exporter": "python",
   "pygments_lexer": "ipython3",
   "version": "3.11.5"
  }
 },
 "nbformat": 4,
 "nbformat_minor": 5
}
