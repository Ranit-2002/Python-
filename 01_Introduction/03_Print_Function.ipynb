{
 "cells": [
  {
   "cell_type": "markdown",
   "id": "b5c14289",
   "metadata": {},
   "source": [
    "# \"print()\" function:\n",
    "\n",
    "The print() function in Python is used to display the specified message or value(s) on the output device, typically the console. It is one of the most commonly used functions for displaying information while developing Python programs.\n",
    "\n",
    "* ***Here's the basic syntax of the print() function:***\n",
    "\n",
    "**print(objects, sep=' ', end='\\n', file=sys.stdout, flush=False)**\n",
    "\n",
    "**Where** :\n",
    "\n",
    "* **\"objects\" :** Represents the values or objects that you want to display. You can provide multiple values separated by commas.\n",
    "\n",
    "* **\"sep\" :** Specifies the separator between the objects. By default, it is a space character.\n",
    "\n",
    "* **\"end\" :** Specifies what to print at the end. By default, it's a newline character ('\\n'), meaning after printing the objects, the cursor moves to the next line. You can change this behavior by passing a different string.\n",
    "\n",
    "* **\"file\" :** Specifies the file, or file-like object, where the output should be sent. By default, it's set to sys.stdout, which means the output will be displayed on the console. You can specify a different file object here.\n",
    "\n",
    "* **\"flush\" :** A boolean value indicating whether to forcibly flush the stream. By default, it's False, meaning the stream is not forcibly flushed. "
   ]
  },
  {
   "cell_type": "markdown",
   "id": "ab27b6a5",
   "metadata": {},
   "source": [
    "## Examples:"
   ]
  },
  {
   "cell_type": "markdown",
   "id": "fb827bf5",
   "metadata": {},
   "source": [
    "* ### Print one object :"
   ]
  },
  {
   "cell_type": "code",
   "execution_count": 21,
   "id": "99ff4fe7",
   "metadata": {},
   "outputs": [
    {
     "name": "stdout",
     "output_type": "stream",
     "text": [
      "Hello World\n"
     ]
    }
   ],
   "source": [
    "# Print an Object :\n",
    "print(\"Hello World\")     # Here 'Hello World' is an Object"
   ]
  },
  {
   "cell_type": "markdown",
   "id": "59738877",
   "metadata": {},
   "source": [
    "* ### Print multiple objects :"
   ]
  },
  {
   "cell_type": "code",
   "execution_count": 22,
   "id": "c55c9f08",
   "metadata": {},
   "outputs": [
    {
     "name": "stdout",
     "output_type": "stream",
     "text": [
      "Okay bye! have a nice day!\n"
     ]
    }
   ],
   "source": [
    "# Print multiple Object :\n",
    "print(\"Okay bye!\", \"have a nice day!\")   # Here \"Okay bye!\", \"have a nice day!\" are Objects separated by comma"
   ]
  },
  {
   "cell_type": "code",
   "execution_count": 23,
   "id": "66a6c3db",
   "metadata": {},
   "outputs": [
    {
     "name": "stdout",
     "output_type": "stream",
     "text": [
      "John 35\n"
     ]
    }
   ],
   "source": [
    "name = \"John\"\n",
    "age = 35\n",
    "\n",
    "print(name, age)"
   ]
  },
  {
   "cell_type": "markdown",
   "id": "ed3d2888",
   "metadata": {},
   "source": [
    "* ### 'end' parameter :"
   ]
  },
  {
   "cell_type": "code",
   "execution_count": 24,
   "id": "f42d7bf7",
   "metadata": {},
   "outputs": [
    {
     "name": "stdout",
     "output_type": "stream",
     "text": [
      "Hello How are you?\n"
     ]
    }
   ],
   "source": [
    "print(\"Hello\", end = \" \")\n",
    "print(\"How are you?\")"
   ]
  },
  {
   "cell_type": "code",
   "execution_count": 25,
   "id": "c423ebd1",
   "metadata": {},
   "outputs": [
    {
     "name": "stdout",
     "output_type": "stream",
     "text": [
      "john@gmail.com\n"
     ]
    }
   ],
   "source": [
    "print(\"john\", end = \"@\")\n",
    "print(\"gmail.com\")"
   ]
  },
  {
   "cell_type": "markdown",
   "id": "3c344f8b",
   "metadata": {},
   "source": [
    "* ### Print a file"
   ]
  },
  {
   "cell_type": "code",
   "execution_count": 26,
   "id": "cb3f83dc",
   "metadata": {},
   "outputs": [],
   "source": [
    "# with open('output.txt', 'w') as f:\n",
    "#     print(\"Hello, world!\", file=f)"
   ]
  }
 ],
 "metadata": {
  "kernelspec": {
   "display_name": "Python 3 (ipykernel)",
   "language": "python",
   "name": "python3"
  },
  "language_info": {
   "codemirror_mode": {
    "name": "ipython",
    "version": 3
   },
   "file_extension": ".py",
   "mimetype": "text/x-python",
   "name": "python",
   "nbconvert_exporter": "python",
   "pygments_lexer": "ipython3",
   "version": "3.11.5"
  }
 },
 "nbformat": 4,
 "nbformat_minor": 5
}
