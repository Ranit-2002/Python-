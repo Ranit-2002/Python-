{
 "cells": [
  {
   "cell_type": "markdown",
   "id": "9ed2f3ad",
   "metadata": {},
   "source": [
    "# Comments in Python\n",
    "\n",
    "In Python, comments are used to annotate and document code. Comments are ignored by the Python interpreter during execution and are intended solely for human readers to understand the purpose, logic, or any other relevant information about the code.\n",
    "\n",
    "Comments can be added inline or as standalone lines. Python supports two types of comments:\n",
    "\n",
    "* **Single-line comments:** These comments span only a single line and start with the # symbol. Anything after the # symbol on the same line is considered a comment and is ignored by the interpreter."
   ]
  },
  {
   "cell_type": "code",
   "execution_count": 1,
   "id": "399e9c65",
   "metadata": {},
   "outputs": [],
   "source": [
    "# This is a single-line comment\n",
    "print(\"Hello, world!\")  # This is also a single-line comment"
   ]
  },
  {
   "cell_type": "markdown",
   "id": "db74ef58",
   "metadata": {},
   "source": [
    "* **Multi-line comments or block comments:** While Python doesn't have a specific syntax for multi-line comments, developers often use multi-line strings (docstrings) enclosed in triple quotes (''' or \"\"\") to achieve a similar effect. These strings are typically placed at the beginning of a module, function, or class to provide documentation or explanatory comments."
   ]
  },
  {
   "cell_type": "code",
   "execution_count": 2,
   "id": "55d02319",
   "metadata": {},
   "outputs": [],
   "source": [
    "\"\"\"\n",
    "This is another way to create a multi-line comment\n",
    "It also spans multiple lines\n",
    "\"\"\"\n",
    "# or\n",
    "'''This is another way to create a multi-line comment\n",
    "It also spans multiple lines'''\n",
    "\n",
    "print(\"Hello, world!\")"
   ]
  }
 ],
 "metadata": {
  "kernelspec": {
   "display_name": "Python 3 (ipykernel)",
   "language": "python",
   "name": "python3"
  },
  "language_info": {
   "codemirror_mode": {
    "name": "ipython",
    "version": 3
   },
   "file_extension": ".py",
   "mimetype": "text/x-python",
   "name": "python",
   "nbconvert_exporter": "python",
   "pygments_lexer": "ipython3",
   "version": "3.11.5"
  }
 },
 "nbformat": 4,
 "nbformat_minor": 5
}
