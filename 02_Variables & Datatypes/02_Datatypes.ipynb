{
 "cells": [
  {
   "cell_type": "markdown",
   "id": "3c0c873f",
   "metadata": {},
   "source": [
    "# Data Types :\n",
    "\n",
    "* **Integer :** Represents whole numbers, such as 1, 2, 3 etc.\n",
    "\n",
    "\n",
    "* **Float :** Represents decimal numbers, such as 7.59, 18.57, -7.37, etc.\n",
    "\n",
    "* **String :** Represents a sequence of characters, such as \"Hey\", \"Nice!\", \"Hello_45198\", etc.\n",
    "\n",
    "* **Boolean :** Represents either **True** or **False**.\n",
    "\n",
    "* **List :** Represents an ordered collection of values, which can be of any data type. For example, [1, 2, 3], [\"Grape\", \"Guava\", \"Mango\"], etc.\n",
    "\n",
    "* **Tuple :** Similar to a list, but immutable, meaning it cannot be modified once created. For example, (1, 2, 3), (\"apple\", \"banana\", \"orange\"), etc.\n",
    "\n",
    "* **Set :** Represents an unordered collection of unique values. For example, {1, 2, 3}, {\"litchi\", \"pineapple\", \"orange\"}, etc.\n",
    "\n",
    "* **Dictionary :** Represents a collection of key-value pairs, where each key is associated with a value. For example, {\"name\": \"Tony\", \"age\": 30}, {\"fruit\": \"apple\", \"color\": \"Purple\"}, etc.\n"
   ]
  },
  {
   "cell_type": "markdown",
   "id": "3e4daa55",
   "metadata": {},
   "source": [
    " # Examples : "
   ]
  },
  {
   "cell_type": "markdown",
   "id": "48d9728a",
   "metadata": {},
   "source": [
    "* ## **Integer Datatype :**\n",
    "\n",
    "The Integer datatype represents whole numbers, encompassing both positive and negative values, such as 1, 2, 3, and so forth.\n"
   ]
  },
  {
   "cell_type": "code",
   "execution_count": 1,
   "id": "6f329a58",
   "metadata": {},
   "outputs": [
    {
     "name": "stdout",
     "output_type": "stream",
     "text": [
      "12 is a type of <class 'int'>\n"
     ]
    }
   ],
   "source": [
    "## Integer Datatype\n",
    "my_num = 12\n",
    "print(my_num, \"is a type of\", type(my_num))"
   ]
  },
  {
   "cell_type": "markdown",
   "id": "e659aa14",
   "metadata": {},
   "source": [
    "* ## **Float Datatype :** \n",
    "Floats are numbers with a decimal point, such as 3.14, 2.5, etc. They can also be positive or negative."
   ]
  },
  {
   "cell_type": "code",
   "execution_count": 2,
   "id": "4ef3577b",
   "metadata": {},
   "outputs": [
    {
     "name": "stdout",
     "output_type": "stream",
     "text": [
      "8.5 is a type of <class 'float'>\n"
     ]
    }
   ],
   "source": [
    "# Float Datatype\n",
    "my_float_num = 8.5\n",
    "print(my_float_num, \"is a type of\", type(my_float_num))"
   ]
  },
  {
   "cell_type": "markdown",
   "id": "a182d2aa",
   "metadata": {},
   "source": [
    "* ## **String Datatype :**\n",
    "Strings are sequences of characters, such as \"hello\", \"world\", etc. They are enclosed in quotation marks (single or double)."
   ]
  },
  {
   "cell_type": "code",
   "execution_count": 3,
   "id": "2bbff727",
   "metadata": {},
   "outputs": [
    {
     "name": "stdout",
     "output_type": "stream",
     "text": [
      "Welcome is a type of <class 'str'>\n",
      "7.38 is a type of <class 'str'>\n"
     ]
    }
   ],
   "source": [
    "# String Datatype :\n",
    "myString1 = \"Welcome\"\n",
    "myString2 = \"7.38\"\n",
    "print(myString1, \"is a type of\", type(myString1))\n",
    "print(myString2, \"is a type of\", type(myString2))"
   ]
  },
  {
   "cell_type": "markdown",
   "id": "5131d44b",
   "metadata": {},
   "source": [
    "* ## **Boolean Datatype :**\n",
    "\n",
    "Boolean conatain only two type of values. \n",
    "* **True**\n",
    "* **False**"
   ]
  },
  {
   "cell_type": "code",
   "execution_count": 4,
   "id": "137f18a9",
   "metadata": {},
   "outputs": [
    {
     "name": "stdout",
     "output_type": "stream",
     "text": [
      "type of True is <class 'bool'>\n",
      "type of False is <class 'bool'>\n"
     ]
    }
   ],
   "source": [
    "# 1st Boolean Value :\n",
    "bool_data_1 = True\n",
    "\n",
    "# 2nd Boolean Value :\n",
    "bool_data_2 = False\n",
    "\n",
    "print(\"type of\", bool_data_1, \"is\", type(bool_data_1))\n",
    "print(\"type of\", bool_data_2, \"is\", type(bool_data_2))"
   ]
  },
  {
   "cell_type": "markdown",
   "id": "11418949",
   "metadata": {},
   "source": [
    "* ## **List Datatype :**\n",
    "\n",
    "The List datatype represents an ordered collection of items, allowing for storage, retrieval, and manipulation of elements."
   ]
  },
  {
   "cell_type": "code",
   "execution_count": 25,
   "id": "52e189db",
   "metadata": {},
   "outputs": [
    {
     "name": "stdout",
     "output_type": "stream",
     "text": [
      "[1, 2, 3] is a type of <class 'list'>\n",
      "['Tony', 'Stark', 48] is a type of <class 'list'>\n"
     ]
    }
   ],
   "source": [
    "list_1 = [1, 2, 3]\n",
    "list_2 = [\"Tony\", \"Stark\", 48]\n",
    "\n",
    "print(list_1, \"is a type of\", type(list_1))\n",
    "print(list_2, \"is a type of\", type(list_2))"
   ]
  },
  {
   "cell_type": "markdown",
   "id": "22918cf6",
   "metadata": {},
   "source": [
    "* ## **Tuple Datatype :**\n",
    "\n",
    "Tuple is same as **List**, But it is ***Immutable***. It means the content of Tuple can't be change"
   ]
  },
  {
   "cell_type": "code",
   "execution_count": 26,
   "id": "977aa401",
   "metadata": {},
   "outputs": [
    {
     "name": "stdout",
     "output_type": "stream",
     "text": [
      "(1, 2, 3) is a type of <class 'tuple'>\n",
      "('apple', 'banana', 'orange') is a type of <class 'tuple'>\n"
     ]
    }
   ],
   "source": [
    "tup_1 = (1, 2, 3) \n",
    "tup_2 = (\"apple\", \"banana\", \"orange\")\n",
    "\n",
    "print(tup_1, \"is a type of\", type(tup_1))\n",
    "print(tup_2, \"is a type of\", type(tup_2))"
   ]
  },
  {
   "cell_type": "markdown",
   "id": "eafc4bf3",
   "metadata": {},
   "source": [
    "* ## **Set Datatype :**\n",
    "\n",
    "The Set datatype represents an unordered collection of unique elements, allowing for operations such as intersection, union, and difference. It represent by \"{}\""
   ]
  },
  {
   "cell_type": "code",
   "execution_count": 27,
   "id": "9f416372",
   "metadata": {},
   "outputs": [
    {
     "name": "stdout",
     "output_type": "stream",
     "text": [
      "{1, 2, 3} is a type of <class 'set'>\n",
      "{'orange', 'pineapple', 'litchi'} is a type of <class 'set'>\n"
     ]
    }
   ],
   "source": [
    "set_1 = {1, 2, 3}\n",
    "set_2 = {\"litchi\", \"pineapple\", \"orange\"}\n",
    "\n",
    "print(set_1, \"is a type of\", type(set_1))\n",
    "print(set_2, \"is a type of\", type(set_2))"
   ]
  },
  {
   "cell_type": "markdown",
   "id": "83aef109",
   "metadata": {},
   "source": [
    "* ## **Dictionary Datatype :**\n",
    "\n",
    "It contains **Key** & **Value** which is \",\" separated. where each key is associated with a value."
   ]
  },
  {
   "cell_type": "code",
   "execution_count": 1,
   "id": "ac42174f",
   "metadata": {},
   "outputs": [
    {
     "name": "stdout",
     "output_type": "stream",
     "text": [
      "{'Name': 'Steve Rogers', 'Age': 56, 'Designation': 'Captain', 'Still in Service': True}\n",
      "{'Name': 'Steve Rogers', 'Age': 56, 'Designation': 'Captain', 'Still in Service': True} is a type of <class 'dict'>\n"
     ]
    }
   ],
   "source": [
    "dict_1 = {\"Name\" : \"Steve Rogers\",\n",
    "          \"Age\" : 56, \n",
    "          \"Designation\" : \"Captain\",\n",
    "          \"Still in Service\" : True}\n",
    "\n",
    "print(dict_1)\n",
    "print(dict_1, \"is a type of\", type(dict_1))"
   ]
  }
 ],
 "metadata": {
  "kernelspec": {
   "display_name": "Python 3 (ipykernel)",
   "language": "python",
   "name": "python3"
  },
  "language_info": {
   "codemirror_mode": {
    "name": "ipython",
    "version": 3
   },
   "file_extension": ".py",
   "mimetype": "text/x-python",
   "name": "python",
   "nbconvert_exporter": "python",
   "pygments_lexer": "ipython3",
   "version": "3.11.5"
  }
 },
 "nbformat": 4,
 "nbformat_minor": 5
}
