{
 "cells": [
  {
   "cell_type": "markdown",
   "id": "b0fc3b3e",
   "metadata": {},
   "source": [
    "# Input function :"
   ]
  },
  {
   "cell_type": "markdown",
   "id": "d148a29c",
   "metadata": {},
   "source": [
    "In Python, the **input()**  function is used to take user input from the console. It allows the program to pause and wait for the user to enter some data. The function then reads that input as a string and returns it. \n",
    "\n",
    "Here's the basic syntax of the input() function:\n",
    "\n",
    "* **input(prompt)** : \n",
    "* **prompt (optional):**\n",
    "Represents a string that is displayed on the console before waiting for input. It serves as a message or instruction to the user.\n",
    "\n",
    "\n",
    "When the **input()**  function is called, the program will wait for the user to enter some text followed by pressing the 'Enter' key. Once the user has entered the text, the **input()** function will read that text as a string and return it. The program can then store this input in a variable or use it in any other way as needed."
   ]
  },
  {
   "cell_type": "markdown",
   "id": "676e7354",
   "metadata": {},
   "source": [
    "* ## Example :"
   ]
  },
  {
   "cell_type": "code",
   "execution_count": 5,
   "id": "a9be2d92",
   "metadata": {},
   "outputs": [
    {
     "name": "stdout",
     "output_type": "stream",
     "text": [
      "Enter your name: Elizabeth\n",
      "Hello, Elizabeth! How are yoy?\n"
     ]
    }
   ],
   "source": [
    "name = input(\"Enter your name: \")  # Prompt the user to enter their name\n",
    "\n",
    "print(\"Hello, \" + name + \"!\", \"How are yoy?\")      # Print a greeting using the entered name"
   ]
  },
  {
   "cell_type": "markdown",
   "id": "a182343c",
   "metadata": {},
   "source": [
    "* When you run this code, it will display the message \"Enter your name: \" on the console. The program will then wait for you to enter your name. After you've entered your name and pressed 'Enter', the program will print a greeting message using the entered name.\n",
    "\n",
    "* Keep in mind that the input from the input() function is always treated as a string, so if you need to use it as a different data type (such as an integer or float), you'll need to explicitly convert it using functions like **int()** or **float()**."
   ]
  },
  {
   "cell_type": "markdown",
   "id": "fda4ad06",
   "metadata": {},
   "source": [
    "* ### Input a Number :"
   ]
  },
  {
   "cell_type": "code",
   "execution_count": 4,
   "id": "94d0c4b3",
   "metadata": {},
   "outputs": [
    {
     "name": "stdout",
     "output_type": "stream",
     "text": [
      "Enter your number : 5\n",
      "Your number is :5\n",
      "<class 'str'>\n"
     ]
    }
   ],
   "source": [
    "number = input(\"Enter your number : \")\n",
    "print(\"Your number is :\" + number)\n",
    "print(type(number))"
   ]
  },
  {
   "cell_type": "code",
   "execution_count": 3,
   "id": "74025344",
   "metadata": {},
   "outputs": [
    {
     "name": "stdout",
     "output_type": "stream",
     "text": [
      "Enter Your Number :5\n",
      "Your Number is :  5\n",
      "<class 'int'>\n"
     ]
    }
   ],
   "source": [
    "# Convert the input into integer\n",
    "number = int(input('Enter Your Number :'))\n",
    "print(\"Your Number is : \", number)\n",
    "print(type(number))"
   ]
  },
  {
   "cell_type": "markdown",
   "id": "505c2363",
   "metadata": {},
   "source": [
    "* ### Input a floating Number :"
   ]
  },
  {
   "cell_type": "code",
   "execution_count": 5,
   "id": "a1881485",
   "metadata": {},
   "outputs": [
    {
     "name": "stdout",
     "output_type": "stream",
     "text": [
      "Enter your normal number :25\n",
      "25\n",
      "<class 'str'>\n",
      "Enter your number :25\n",
      "25.0\n",
      "<class 'float'>\n"
     ]
    }
   ],
   "source": [
    "num = input(\"Enter your normal number :\")\n",
    "print(num)\n",
    "print(type(num))\n",
    "\n",
    "# Convert the number into a float :\n",
    "float_num = float(input(\"Enter your number :\"))\n",
    "print(float_num)\n",
    "print(type(float_num))"
   ]
  }
 ],
 "metadata": {
  "kernelspec": {
   "display_name": "Python 3 (ipykernel)",
   "language": "python",
   "name": "python3"
  },
  "language_info": {
   "codemirror_mode": {
    "name": "ipython",
    "version": 3
   },
   "file_extension": ".py",
   "mimetype": "text/x-python",
   "name": "python",
   "nbconvert_exporter": "python",
   "pygments_lexer": "ipython3",
   "version": "3.11.5"
  }
 },
 "nbformat": 4,
 "nbformat_minor": 5
}
